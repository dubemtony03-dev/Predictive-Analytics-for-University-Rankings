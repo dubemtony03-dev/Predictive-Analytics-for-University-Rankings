{
 "cells": [
  {
   "cell_type": "code",
   "execution_count": null,
   "id": "2300961f-eaf6-42ff-b0db-90f196a2a077",
   "metadata": {},
   "outputs": [],
   "source": [
    "import pandas as pd\n",
    "import numpy as np\n",
    "from scipy.stats.mstats import winsorize\n",
    "from sklearn.experimental import enable_iterative_imputer\n",
    "from sklearn.impute import IterativeImputer\n",
    "from sklearn.ensemble import HistGradientBoostingRegressor\n",
    "\n",
    "# Load Guardian and THE data\n",
    "guardian_df = pd.read_csv(\"../data/sample_guardian.csv\")\n",
    "the_df = pd.read_csv(\"../data/sample_times.csv\", encoding=\"ISO-8859-1\")\n",
    "\n",
    "# Select features + target\n",
    "features = [\n",
    "    'Teaching', 'Satisfied with feedback',\n",
    "    'Continuation', 'Student to staff ratio',\n",
    "    'Career after 15 months', 'Spend per student/10'\n",
    "]\n",
    "target = 'Overall'\n",
    "\n",
    "# Winsorize to reduce outliers\n",
    "for col in features:\n",
    "    guardian_df[col] = winsorize(guardian_df[col], limits=[0.05, 0.05])\n",
    "\n",
    "# Impute missing values\n",
    "imputer = IterativeImputer(estimator=HistGradientBoostingRegressor(random_state=42))\n",
    "guardian_df[features] = imputer.fit_transform(guardian_df[features])\n",
    "\n",
    "guardian_df.to_csv(\"../data/clean_guardian.csv\", index=False)\n"
   ]
  }
 ],
 "metadata": {
  "kernelspec": {
   "display_name": "Python 3 (ipykernel)",
   "language": "python",
   "name": "python3"
  },
  "language_info": {
   "codemirror_mode": {
    "name": "ipython",
    "version": 3
   },
   "file_extension": ".py",
   "mimetype": "text/x-python",
   "name": "python",
   "nbconvert_exporter": "python",
   "pygments_lexer": "ipython3",
   "version": "3.11.7"
  }
 },
 "nbformat": 4,
 "nbformat_minor": 5
}
