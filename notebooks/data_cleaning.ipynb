import pandas as pd
import numpy as np
from scipy.stats.mstats import winsorize
from sklearn.experimental import enable_iterative_imputer
from sklearn.impute import IterativeImputer
from sklearn.ensemble import HistGradientBoostingRegressor

# Load Guardian and THE data
guardian_df = pd.read_csv("../data/sample_guardian.csv")
the_df = pd.read_csv("../data/sample_times.csv", encoding="ISO-8859-1")

# Select features + target
features = [
    'Teaching', 'Satisfied with feedback',
    'Continuation', 'Student to staff ratio',
    'Career after 15 months', 'Spend per student/10'
]
target = 'Overall'

# Winsorize to reduce outliers
for col in features:
    guardian_df[col] = winsorize(guardian_df[col], limits=[0.05, 0.05])

# Impute missing values
imputer = IterativeImputer(estimator=HistGradientBoostingRegressor(random_state=42))
guardian_df[features] = imputer.fit_transform(guardian_df[features])

guardian_df.to_csv("../data/clean_guardian.csv", index=False)
