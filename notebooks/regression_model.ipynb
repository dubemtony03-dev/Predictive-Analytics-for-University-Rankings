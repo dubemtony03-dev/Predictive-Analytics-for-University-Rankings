{
 "cells": [
  {
   "cell_type": "code",
   "execution_count": null,
   "id": "9a8b8137-dd72-4aa3-b68a-03d984f40f58",
   "metadata": {},
   "outputs": [],
   "source": [
    "import pandas as pd\n",
    "import numpy as np\n",
    "from sklearn.model_selection import train_test_split\n",
    "from sklearn.linear_model import LinearRegression\n",
    "from sklearn.ensemble import RandomForestRegressor, GradientBoostingRegressor\n",
    "from sklearn.preprocessing import StandardScaler\n",
    "from sklearn.metrics import r2_score, mean_absolute_error\n",
    "\n",
    "# Load cleaned data\n",
    "df = pd.read_csv(\"../data/clean_guardian.csv\")\n",
    "features = ['Teaching','Satisfied with feedback','Continuation',\n",
    "            'Student to staff ratio','Career after 15 months','Spend per student/10']\n",
    "target = 'Overall'\n",
    "\n",
    "# Scale features\n",
    "scaler = StandardScaler()\n",
    "X = scaler.fit_transform(df[features])\n",
    "y = df[target]\n",
    "\n",
    "X_train, X_test, y_train, y_test = train_test_split(X, y, test_size=0.2, random_state=42)\n",
    "\n",
    "# Train models\n",
    "ols = LinearRegression()\n",
    "rf = RandomForestRegressor(n_estimators=200, random_state=42)\n",
    "gbr = GradientBoostingRegressor(n_estimators=200, learning_rate=0.05, random_state=42)\n",
    "\n",
    "models = {\"OLS\": ols, \"RF\": rf, \"GBR\": gbr}\n",
    "\n",
    "for name, model in models.items():\n",
    "    model.fit(X_train, y_train)\n",
    "    y_pred = model.predict(X_test)\n",
    "    print(f\"{name} R²: {r2_score(y_test, y_pred):.3f}\")\n",
    "    print(f\"{name} MAE: {mean_absolute_error(y_test, y_pred):.3f}\")\n"
   ]
  }
 ],
 "metadata": {
  "kernelspec": {
   "display_name": "Python 3 (ipykernel)",
   "language": "python",
   "name": "python3"
  },
  "language_info": {
   "codemirror_mode": {
    "name": "ipython",
    "version": 3
   },
   "file_extension": ".py",
   "mimetype": "text/x-python",
   "name": "python",
   "nbconvert_exporter": "python",
   "pygments_lexer": "ipython3",
   "version": "3.11.7"
  }
 },
 "nbformat": 4,
 "nbformat_minor": 5
}
