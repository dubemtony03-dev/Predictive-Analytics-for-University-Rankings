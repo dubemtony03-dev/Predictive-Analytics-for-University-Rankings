import pandas as pd
import numpy as np
import matplotlib.pyplot as plt
import seaborn as sns
from sklearn.ensemble import RandomForestRegressor, GradientBoostingRegressor
from sklearn.model_selection import StratifiedKFold
from sklearn.linear_model import LinearRegression
from sklearn.metrics import r2_score
from sklearn.preprocessing import StandardScaler

df = pd.read_csv("../data/clean_guardian.csv")
features = ['Teaching','Satisfied with feedback','Continuation',
            'Student to staff ratio','Career after 15 months','Spend per student/10']
target = 'Overall'

scaler = StandardScaler()
X = scaler.fit_transform(df[features])
y = df[target]

# Example: Feature importance from GBR
gbr = GradientBoostingRegressor(n_estimators=200, random_state=42)
gbr.fit(X, y)

importances = pd.Series(gbr.feature_importances_, index=features)
importances.sort_values().plot(kind="barh")
plt.title("Feature Importance (Gradient Boosting)")
plt.show()
