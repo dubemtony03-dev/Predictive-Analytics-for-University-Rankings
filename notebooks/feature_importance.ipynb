{
 "cells": [
  {
   "cell_type": "code",
   "execution_count": null,
   "id": "e5de41c8-3c41-4794-bc37-4e6cc943b0f9",
   "metadata": {},
   "outputs": [],
   "source": [
    "import pandas as pd\n",
    "import numpy as np\n",
    "import matplotlib.pyplot as plt\n",
    "import seaborn as sns\n",
    "from sklearn.ensemble import RandomForestRegressor, GradientBoostingRegressor\n",
    "from sklearn.model_selection import StratifiedKFold\n",
    "from sklearn.linear_model import LinearRegression\n",
    "from sklearn.metrics import r2_score\n",
    "from sklearn.preprocessing import StandardScaler\n",
    "\n",
    "df = pd.read_csv(\"../data/clean_guardian.csv\")\n",
    "features = ['Teaching','Satisfied with feedback','Continuation',\n",
    "            'Student to staff ratio','Career after 15 months','Spend per student/10']\n",
    "target = 'Overall'\n",
    "\n",
    "scaler = StandardScaler()\n",
    "X = scaler.fit_transform(df[features])\n",
    "y = df[target]\n",
    "\n",
    "# Example: Feature importance from GBR\n",
    "gbr = GradientBoostingRegressor(n_estimators=200, random_state=42)\n",
    "gbr.fit(X, y)\n",
    "\n",
    "importances = pd.Series(gbr.feature_importances_, index=features)\n",
    "importances.sort_values().plot(kind=\"barh\")\n",
    "plt.title(\"Feature Importance (Gradient Boosting)\")\n",
    "plt.show()\n"
   ]
  }
 ],
 "metadata": {
  "kernelspec": {
   "display_name": "Python 3 (ipykernel)",
   "language": "python",
   "name": "python3"
  },
  "language_info": {
   "codemirror_mode": {
    "name": "ipython",
    "version": 3
   },
   "file_extension": ".py",
   "mimetype": "text/x-python",
   "name": "python",
   "nbconvert_exporter": "python",
   "pygments_lexer": "ipython3",
   "version": "3.11.7"
  }
 },
 "nbformat": 4,
 "nbformat_minor": 5
}
